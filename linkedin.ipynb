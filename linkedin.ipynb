{
 "cells": [
  {
   "cell_type": "code",
   "execution_count": 2,
   "metadata": {},
   "outputs": [],
   "source": [
    "import pandas as pd\n",
    "import numpy as np\n",
    "import scipy as sy\n",
    "import os\n",
    "import sys\n",
    "import matplotlib.pyplot as plt\n",
    "import seaborn as sns\n",
    "from bs4 import BeautifulSoup\n",
    "import plotly\n",
    "import cufflinks as ck\n",
    "from serpapi import GoogleSearch\n",
    "import requests\n",
    "import lxml\n",
    "import time\n",
    "from selenium import webdriver\n",
    "from selenium.webdriver.common.by import By\n",
    "from selenium.webdriver.common.keys import Keys\n",
    "from selenium.webdriver.chrome.service import Service\n",
    "import re\n"
   ]
  },
  {
   "cell_type": "code",
   "execution_count": 17,
   "metadata": {},
   "outputs": [
    {
     "ename": "NoSuchElementException",
     "evalue": "Message: no such element: Unable to locate element: {\"method\":\"xpath\",\"selector\":\"//button[@aria-label=\"Next\"]\"}\n  (Session info: chrome=109.0.5414.122)\nStacktrace:\nBacktrace:\n\t(No symbol) [0x003F6643]\n\t(No symbol) [0x0038BE21]\n\t(No symbol) [0x0028DA9D]\n\t(No symbol) [0x002C1342]\n\t(No symbol) [0x002C147B]\n\t(No symbol) [0x002F8DC2]\n\t(No symbol) [0x002DFDC4]\n\t(No symbol) [0x002F6B09]\n\t(No symbol) [0x002DFB76]\n\t(No symbol) [0x002B49C1]\n\t(No symbol) [0x002B5E5D]\n\tGetHandleVerifier [0x0066A142+2497106]\n\tGetHandleVerifier [0x006985D3+2686691]\n\tGetHandleVerifier [0x0069BB9C+2700460]\n\tGetHandleVerifier [0x004A3B10+635936]\n\t(No symbol) [0x00394A1F]\n\t(No symbol) [0x0039A418]\n\t(No symbol) [0x0039A505]\n\t(No symbol) [0x003A508B]\n\tBaseThreadInitThunk [0x75DE7D69+25]\n\tRtlInitializeExceptionChain [0x7769BB9B+107]\n\tRtlClearBits [0x7769BB1F+191]\n",
     "output_type": "error",
     "traceback": [
      "\u001b[1;31m---------------------------------------------------------------------------\u001b[0m",
      "\u001b[1;31mNoSuchElementException\u001b[0m                    Traceback (most recent call last)",
      "\u001b[1;32m~\\AppData\\Local\\Temp\\ipykernel_26332\\4211539880.py\u001b[0m in \u001b[0;36m<module>\u001b[1;34m\u001b[0m\n\u001b[0;32m     24\u001b[0m     \u001b[0mlinks\u001b[0m\u001b[1;33m.\u001b[0m\u001b[0mappend\u001b[0m\u001b[1;33m(\u001b[0m\u001b[1;33m[\u001b[0m\u001b[0mli\u001b[0m\u001b[1;33m.\u001b[0m\u001b[0mget_attribute\u001b[0m\u001b[1;33m(\u001b[0m\u001b[1;34m'href'\u001b[0m\u001b[1;33m)\u001b[0m \u001b[1;32mfor\u001b[0m \u001b[0mli\u001b[0m \u001b[1;32min\u001b[0m \u001b[0mlinky\u001b[0m\u001b[1;33m[\u001b[0m\u001b[1;33m:\u001b[0m\u001b[1;33m:\u001b[0m\u001b[1;36m2\u001b[0m\u001b[1;33m]\u001b[0m \u001b[1;32mif\u001b[0m \u001b[1;34m'miniProfileUrn'\u001b[0m\u001b[1;32min\u001b[0m \u001b[0mstr\u001b[0m\u001b[1;33m(\u001b[0m\u001b[0mli\u001b[0m\u001b[1;33m.\u001b[0m\u001b[0mget_attribute\u001b[0m\u001b[1;33m(\u001b[0m\u001b[1;34m'href'\u001b[0m\u001b[1;33m)\u001b[0m\u001b[1;33m)\u001b[0m\u001b[1;33m]\u001b[0m\u001b[1;33m)\u001b[0m\u001b[1;33m\u001b[0m\u001b[1;33m\u001b[0m\u001b[0m\n\u001b[0;32m     25\u001b[0m \u001b[1;33m\u001b[0m\u001b[0m\n\u001b[1;32m---> 26\u001b[1;33m     \u001b[0mpage_button\u001b[0m \u001b[1;33m=\u001b[0m \u001b[0mdriver\u001b[0m\u001b[1;33m.\u001b[0m\u001b[0mfind_element\u001b[0m\u001b[1;33m(\u001b[0m\u001b[0mBy\u001b[0m\u001b[1;33m.\u001b[0m\u001b[0mXPATH\u001b[0m\u001b[1;33m,\u001b[0m \u001b[1;34m'//button[@aria-label=\"Next\"]'\u001b[0m\u001b[1;33m)\u001b[0m\u001b[1;33m\u001b[0m\u001b[1;33m\u001b[0m\u001b[0m\n\u001b[0m\u001b[0;32m     27\u001b[0m     \u001b[0mpage_button\u001b[0m\u001b[1;33m.\u001b[0m\u001b[0mclick\u001b[0m\u001b[1;33m(\u001b[0m\u001b[1;33m)\u001b[0m\u001b[1;33m\u001b[0m\u001b[1;33m\u001b[0m\u001b[0m\n\u001b[0;32m     28\u001b[0m \u001b[1;33m\u001b[0m\u001b[0m\n",
      "\u001b[1;32mc:\\Users\\Richard\\Anaconda3\\lib\\site-packages\\selenium\\webdriver\\remote\\webdriver.py\u001b[0m in \u001b[0;36mfind_element\u001b[1;34m(self, by, value)\u001b[0m\n\u001b[0;32m    828\u001b[0m             \u001b[0mvalue\u001b[0m \u001b[1;33m=\u001b[0m \u001b[1;34mf'[name=\"{value}\"]'\u001b[0m\u001b[1;33m\u001b[0m\u001b[1;33m\u001b[0m\u001b[0m\n\u001b[0;32m    829\u001b[0m \u001b[1;33m\u001b[0m\u001b[0m\n\u001b[1;32m--> 830\u001b[1;33m         \u001b[1;32mreturn\u001b[0m \u001b[0mself\u001b[0m\u001b[1;33m.\u001b[0m\u001b[0mexecute\u001b[0m\u001b[1;33m(\u001b[0m\u001b[0mCommand\u001b[0m\u001b[1;33m.\u001b[0m\u001b[0mFIND_ELEMENT\u001b[0m\u001b[1;33m,\u001b[0m \u001b[1;33m{\u001b[0m\u001b[1;34m\"using\"\u001b[0m\u001b[1;33m:\u001b[0m \u001b[0mby\u001b[0m\u001b[1;33m,\u001b[0m \u001b[1;34m\"value\"\u001b[0m\u001b[1;33m:\u001b[0m \u001b[0mvalue\u001b[0m\u001b[1;33m}\u001b[0m\u001b[1;33m)\u001b[0m\u001b[1;33m[\u001b[0m\u001b[1;34m\"value\"\u001b[0m\u001b[1;33m]\u001b[0m\u001b[1;33m\u001b[0m\u001b[1;33m\u001b[0m\u001b[0m\n\u001b[0m\u001b[0;32m    831\u001b[0m \u001b[1;33m\u001b[0m\u001b[0m\n\u001b[0;32m    832\u001b[0m     \u001b[1;32mdef\u001b[0m \u001b[0mfind_elements\u001b[0m\u001b[1;33m(\u001b[0m\u001b[0mself\u001b[0m\u001b[1;33m,\u001b[0m \u001b[0mby\u001b[0m\u001b[1;33m=\u001b[0m\u001b[0mBy\u001b[0m\u001b[1;33m.\u001b[0m\u001b[0mID\u001b[0m\u001b[1;33m,\u001b[0m \u001b[0mvalue\u001b[0m\u001b[1;33m:\u001b[0m \u001b[0mOptional\u001b[0m\u001b[1;33m[\u001b[0m\u001b[0mstr\u001b[0m\u001b[1;33m]\u001b[0m \u001b[1;33m=\u001b[0m \u001b[1;32mNone\u001b[0m\u001b[1;33m)\u001b[0m \u001b[1;33m->\u001b[0m \u001b[0mList\u001b[0m\u001b[1;33m[\u001b[0m\u001b[0mWebElement\u001b[0m\u001b[1;33m]\u001b[0m\u001b[1;33m:\u001b[0m\u001b[1;33m\u001b[0m\u001b[1;33m\u001b[0m\u001b[0m\n",
      "\u001b[1;32mc:\\Users\\Richard\\Anaconda3\\lib\\site-packages\\selenium\\webdriver\\remote\\webdriver.py\u001b[0m in \u001b[0;36mexecute\u001b[1;34m(self, driver_command, params)\u001b[0m\n\u001b[0;32m    438\u001b[0m         \u001b[0mresponse\u001b[0m \u001b[1;33m=\u001b[0m \u001b[0mself\u001b[0m\u001b[1;33m.\u001b[0m\u001b[0mcommand_executor\u001b[0m\u001b[1;33m.\u001b[0m\u001b[0mexecute\u001b[0m\u001b[1;33m(\u001b[0m\u001b[0mdriver_command\u001b[0m\u001b[1;33m,\u001b[0m \u001b[0mparams\u001b[0m\u001b[1;33m)\u001b[0m\u001b[1;33m\u001b[0m\u001b[1;33m\u001b[0m\u001b[0m\n\u001b[0;32m    439\u001b[0m         \u001b[1;32mif\u001b[0m \u001b[0mresponse\u001b[0m\u001b[1;33m:\u001b[0m\u001b[1;33m\u001b[0m\u001b[1;33m\u001b[0m\u001b[0m\n\u001b[1;32m--> 440\u001b[1;33m             \u001b[0mself\u001b[0m\u001b[1;33m.\u001b[0m\u001b[0merror_handler\u001b[0m\u001b[1;33m.\u001b[0m\u001b[0mcheck_response\u001b[0m\u001b[1;33m(\u001b[0m\u001b[0mresponse\u001b[0m\u001b[1;33m)\u001b[0m\u001b[1;33m\u001b[0m\u001b[1;33m\u001b[0m\u001b[0m\n\u001b[0m\u001b[0;32m    441\u001b[0m             \u001b[0mresponse\u001b[0m\u001b[1;33m[\u001b[0m\u001b[1;34m\"value\"\u001b[0m\u001b[1;33m]\u001b[0m \u001b[1;33m=\u001b[0m \u001b[0mself\u001b[0m\u001b[1;33m.\u001b[0m\u001b[0m_unwrap_value\u001b[0m\u001b[1;33m(\u001b[0m\u001b[0mresponse\u001b[0m\u001b[1;33m.\u001b[0m\u001b[0mget\u001b[0m\u001b[1;33m(\u001b[0m\u001b[1;34m\"value\"\u001b[0m\u001b[1;33m,\u001b[0m \u001b[1;32mNone\u001b[0m\u001b[1;33m)\u001b[0m\u001b[1;33m)\u001b[0m\u001b[1;33m\u001b[0m\u001b[1;33m\u001b[0m\u001b[0m\n\u001b[0;32m    442\u001b[0m             \u001b[1;32mreturn\u001b[0m \u001b[0mresponse\u001b[0m\u001b[1;33m\u001b[0m\u001b[1;33m\u001b[0m\u001b[0m\n",
      "\u001b[1;32mc:\\Users\\Richard\\Anaconda3\\lib\\site-packages\\selenium\\webdriver\\remote\\errorhandler.py\u001b[0m in \u001b[0;36mcheck_response\u001b[1;34m(self, response)\u001b[0m\n\u001b[0;32m    243\u001b[0m                 \u001b[0malert_text\u001b[0m \u001b[1;33m=\u001b[0m \u001b[0mvalue\u001b[0m\u001b[1;33m[\u001b[0m\u001b[1;34m\"alert\"\u001b[0m\u001b[1;33m]\u001b[0m\u001b[1;33m.\u001b[0m\u001b[0mget\u001b[0m\u001b[1;33m(\u001b[0m\u001b[1;34m\"text\"\u001b[0m\u001b[1;33m)\u001b[0m\u001b[1;33m\u001b[0m\u001b[1;33m\u001b[0m\u001b[0m\n\u001b[0;32m    244\u001b[0m             \u001b[1;32mraise\u001b[0m \u001b[0mexception_class\u001b[0m\u001b[1;33m(\u001b[0m\u001b[0mmessage\u001b[0m\u001b[1;33m,\u001b[0m \u001b[0mscreen\u001b[0m\u001b[1;33m,\u001b[0m \u001b[0mstacktrace\u001b[0m\u001b[1;33m,\u001b[0m \u001b[0malert_text\u001b[0m\u001b[1;33m)\u001b[0m  \u001b[1;31m# type: ignore[call-arg]  # mypy is not smart enough here\u001b[0m\u001b[1;33m\u001b[0m\u001b[1;33m\u001b[0m\u001b[0m\n\u001b[1;32m--> 245\u001b[1;33m         \u001b[1;32mraise\u001b[0m \u001b[0mexception_class\u001b[0m\u001b[1;33m(\u001b[0m\u001b[0mmessage\u001b[0m\u001b[1;33m,\u001b[0m \u001b[0mscreen\u001b[0m\u001b[1;33m,\u001b[0m \u001b[0mstacktrace\u001b[0m\u001b[1;33m)\u001b[0m\u001b[1;33m\u001b[0m\u001b[1;33m\u001b[0m\u001b[0m\n\u001b[0m",
      "\u001b[1;31mNoSuchElementException\u001b[0m: Message: no such element: Unable to locate element: {\"method\":\"xpath\",\"selector\":\"//button[@aria-label=\"Next\"]\"}\n  (Session info: chrome=109.0.5414.122)\nStacktrace:\nBacktrace:\n\t(No symbol) [0x003F6643]\n\t(No symbol) [0x0038BE21]\n\t(No symbol) [0x0028DA9D]\n\t(No symbol) [0x002C1342]\n\t(No symbol) [0x002C147B]\n\t(No symbol) [0x002F8DC2]\n\t(No symbol) [0x002DFDC4]\n\t(No symbol) [0x002F6B09]\n\t(No symbol) [0x002DFB76]\n\t(No symbol) [0x002B49C1]\n\t(No symbol) [0x002B5E5D]\n\tGetHandleVerifier [0x0066A142+2497106]\n\tGetHandleVerifier [0x006985D3+2686691]\n\tGetHandleVerifier [0x0069BB9C+2700460]\n\tGetHandleVerifier [0x004A3B10+635936]\n\t(No symbol) [0x00394A1F]\n\t(No symbol) [0x0039A418]\n\t(No symbol) [0x0039A505]\n\t(No symbol) [0x003A508B]\n\tBaseThreadInitThunk [0x75DE7D69+25]\n\tRtlInitializeExceptionChain [0x7769BB9B+107]\n\tRtlClearBits [0x7769BB1F+191]\n"
     ]
    }
   ],
   "source": [
    "userid = \"ric.richardthomas1@gmail.com\"\n",
    "password = \"R!ch&@rd4\"\n",
    "keyword = \"Master of Business Data Science Otago \"\n",
    "url = f\"https://www.linkedin.com/search/results/people/?keywords={keyword}&origin=SWITCH_SEARCH_VERTICAL&sid=RZW\"\n",
    "\n",
    "options = webdriver.ChromeOptions()\n",
    "options.add_argument('--headless')\n",
    "driver = webdriver.Chrome()#options=options\n",
    "\n",
    "driver.get(\"https://www.linkedin.com\")\n",
    "driver.implicitly_wait(6)\n",
    "driver.find_element(By.XPATH,\"\"\"//*[@id=\"session_key\"]\"\"\").send_keys(userid)\n",
    "driver.find_element(By.XPATH,\"\"\"//*[@id=\"session_password\"]\"\"\").send_keys(password)\n",
    "driver.find_element(By.XPATH,\"//button[@class='sign-in-form__submit-button']\").click()\n",
    "\n",
    "driver.get(url)\n",
    "aspects = {'name_title' :'//*[@id=\"2MotgJtOQsyTzubP8v8Msg==\"]/div/ul/li[1]/div/div/div[2]/div[1]/div[1]/div/span[1]/span/a'}\n",
    "links = []\n",
    "scroll_target = driver.find_element(By.CLASS_NAME,\"background-mercado\")\n",
    "driver.execute_script('arguments[0].scrollIntoView(true)',scroll_target)\n",
    "while True:\n",
    "    time.sleep(3) \n",
    "    linky = driver.find_elements(By.CLASS_NAME,'app-aware-link ')\n",
    "    links.append([li.get_attribute('href') for li in linky[::2] if 'miniProfileUrn'in str(li.get_attribute('href'))])\n",
    "    \n",
    "    page_button = driver.find_element(By.XPATH, '//button[@aria-label=\"Next\"]')\n",
    "    page_button.click()\n",
    "\n",
    "\n"
   ]
  },
  {
   "cell_type": "code",
   "execution_count": 18,
   "metadata": {},
   "outputs": [
    {
     "name": "stdout",
     "output_type": "stream",
     "text": [
      "8 links obtained\n"
     ]
    },
    {
     "data": {
      "text/plain": [
       "[['https://www.linkedin.com/in/amaraja-bapat-otago?miniProfileUrn=urn%3Ali%3Afs_miniProfile%3AACoAAA-_SwoBSS-j1Yiz4PMKnuX2mUnFu_IGH-I',\n",
       "  'https://www.linkedin.com/in/scarlett-michelle-864427138?miniProfileUrn=urn%3Ali%3Afs_miniProfile%3AACoAACGFxgwB0DDx3KrEZrRN0svlIan7xOUYd9I',\n",
       "  'https://www.linkedin.com/in/rachel-youngson-01a137157?miniProfileUrn=urn%3Ali%3Afs_miniProfile%3AACoAACWSnlYByxTXS98FQy74Otk6WOVfBBOSvyU',\n",
       "  'https://www.linkedin.com/in/maurice-schueckens?miniProfileUrn=urn%3Ali%3Afs_miniProfile%3AACoAACMfBhgBgt5PQtY4iu4_O1FC4eUO60fEjgA',\n",
       "  'https://www.linkedin.com/in/oconnell-kelly?miniProfileUrn=urn%3Ali%3Afs_miniProfile%3AACoAACNHwxUBdhMa0mTc2dx5LrjLF9NhykCSHNE',\n",
       "  'https://www.linkedin.com/in/zoevanhavre?miniProfileUrn=urn%3Ali%3Afs_miniProfile%3AACoAAAMHiNgB93aIxDuZX8oyeTHlP5KHAVoqe9k',\n",
       "  'https://www.linkedin.com/in/alvinlie?miniProfileUrn=urn%3Ali%3Afs_miniProfile%3AACoAAAZxNRYBKlyIN2xmdD9hK0TD6_TXRR7K7j8',\n",
       "  'https://www.linkedin.com/in/jean-l-00218886?miniProfileUrn=urn%3Ali%3Afs_miniProfile%3AACoAABIt6gIBkcJxrX-RYbkU53WLzWfgmQIEi94',\n",
       "  'https://www.linkedin.com/in/chontira-chumsaeng?miniProfileUrn=urn%3Ali%3Afs_miniProfile%3AACoAAA3fllgB6BsDn0E8yZYW9RVUGA6joxYdEU4'],\n",
       " ['https://www.linkedin.com/in/jeremycgray?miniProfileUrn=urn%3Ali%3Afs_miniProfile%3AACoAAAjB6x4B7T2LDHDcoPJeNbPkJfqbo-XlnmQ',\n",
       "  'https://www.linkedin.com/in/penghui-leo-z?miniProfileUrn=urn%3Ali%3Afs_miniProfile%3AACoAAAfpKj0BkLxyhtHnGUxpOEzrRmAa_AzyyFE',\n",
       "  'https://www.linkedin.com/in/keri-sime-677602137?miniProfileUrn=urn%3Ali%3Afs_miniProfile%3AACoAACFfCTsBLheH5H6XE-Ekpjg5sq9oDBTncaI',\n",
       "  'https://www.linkedin.com/in/blake-list-997656118?miniProfileUrn=urn%3Ali%3Afs_miniProfile%3AACoAAB1IywMBBR15gou_vi_s6OwBLPGKD00F9QY',\n",
       "  'https://www.linkedin.com/in/keelerdavid?miniProfileUrn=urn%3Ali%3Afs_miniProfile%3AACoAAATT6LcBZJHioDbw2xd9WTNaQNhGkAaOycY',\n",
       "  'https://www.linkedin.com/in/raymund-baltazar-5b411391?miniProfileUrn=urn%3Ali%3Afs_miniProfile%3AACoAABNqhJgBBDelbcS3ylhM5J7rXS7zmon6suE',\n",
       "  'https://www.linkedin.com/in/alanwalters?miniProfileUrn=urn%3Ali%3Afs_miniProfile%3AACoAAAIqLtABCfLKdPRLd8jBG5bB3JvBFkr9UHU',\n",
       "  'https://www.linkedin.com/in/alecsharpie?miniProfileUrn=urn%3Ali%3Afs_miniProfile%3AACoAABIerMcBAA-KV5n-VlyfdemZwIY-FU8yO1o',\n",
       "  'https://www.linkedin.com/in/priyanka-sinha-62596515?miniProfileUrn=urn%3Ali%3Afs_miniProfile%3AACoAAAMqxz0BvoZhI9vEJ2Oa7uZoD8iEQSQGgMM'],\n",
       " ['https://www.linkedin.com/in/wynton-moore-83b03b69?miniProfileUrn=urn%3Ali%3Afs_miniProfile%3AACoAAA5r0e8BnBQklJ28V7Y6OzmsHJc9NgWYDb4',\n",
       "  'https://www.linkedin.com/in/harrison-zhang-56869130?miniProfileUrn=urn%3Ali%3Afs_miniProfile%3AACoAAAaB6uABVdPokQLiXKgZAXswz2MBohCEehc',\n",
       "  'https://www.linkedin.com/in/alyssaboisvert?miniProfileUrn=urn%3Ali%3Afs_miniProfile%3AACoAAA1oKdUBDCGhgC6OgcSuf28HmLoPURsHVNM',\n",
       "  'https://www.linkedin.com/in/aaronsheerin?miniProfileUrn=urn%3Ali%3Afs_miniProfile%3AACoAAAE1mDIBacFBwWJeZIIuFhjwquzSwR6wLUk',\n",
       "  'https://www.linkedin.com/in/christoph-mony-b21476160?miniProfileUrn=urn%3Ali%3Afs_miniProfile%3AACoAACaDFckB11NwFtK4mdTWivHl1RHLsHwywW4',\n",
       "  'https://www.linkedin.com/in/chanaka-kaluarachchi-22741561?miniProfileUrn=urn%3Ali%3Afs_miniProfile%3AACoAAA0Ns_8Ba4IIZRrWJ-eHqKvI-E42GF7fO64',\n",
       "  'https://www.linkedin.com/in/robertsonjess?miniProfileUrn=urn%3Ali%3Afs_miniProfile%3AACoAAAWhpEMBeMR2JtIUJ6SX5PR7dSUNDh4nJAw'],\n",
       " ['https://www.linkedin.com/in/ashish1610dhiman?miniProfileUrn=urn%3Ali%3Afs_miniProfile%3AACoAAA0cdeUBUrixKEEpDOFHjYUAzT1rBXMmaQg',\n",
       "  'https://www.linkedin.com/in/jensrk?miniProfileUrn=urn%3Ali%3Afs_miniProfile%3AACoAAACrvOIB5FI-6enNBU6xvJP42r8mJWxyDnA',\n",
       "  'https://www.linkedin.com/in/jamiebsaunders?miniProfileUrn=urn%3Ali%3Afs_miniProfile%3AACoAAA3EACwBABPApOiJzgqPanQ6Ti8_kGRqqlQ',\n",
       "  'https://www.linkedin.com/in/louise-harding-3b964551?miniProfileUrn=urn%3Ali%3Afs_miniProfile%3AACoAAArzf_0BXP6l1rbHqcK-zBnFrCKA5eUe7MI',\n",
       "  'https://www.linkedin.com/in/stephenmacdonell?miniProfileUrn=urn%3Ali%3Afs_miniProfile%3AACoAAAHs7FcBYQa9EprdpilkXLTXguy5iYbsavI',\n",
       "  'https://www.linkedin.com/in/robert-kwark?miniProfileUrn=urn%3Ali%3Afs_miniProfile%3AACoAAAhcQPwBlsgIM0xN3L0kL7nUNSoENsGt-sQ',\n",
       "  'https://www.linkedin.com/in/skc21?miniProfileUrn=urn%3Ali%3Afs_miniProfile%3AACoAADKrYpwBoVLyCTMxkiQduCgnlmSp7al07tE',\n",
       "  'https://www.linkedin.com/in/harsh-kansara-35b681148?miniProfileUrn=urn%3Ali%3Afs_miniProfile%3AACoAACOx2LcB96eBPn5ZzexcbUp3HtgggFmFiiw',\n",
       "  'https://www.linkedin.com/in/xue-fu-820025174?miniProfileUrn=urn%3Ali%3Afs_miniProfile%3AACoAAClLSFgBBz887EXKoKh6SozwZ6Ta5ZU5R-E'],\n",
       " ['https://www.linkedin.com/in/ghislene-adjaoute?miniProfileUrn=urn%3Ali%3Afs_miniProfile%3AACoAAAwiFToB3QPKPtyywPFOZICs7jpSF_8TflE',\n",
       "  'https://www.linkedin.com/in/tom-cunningham-a9433?miniProfileUrn=urn%3Ali%3Afs_miniProfile%3AACoAAAABDVABAN7eJwyOhcXR6-M9Uv14Wgyaa30',\n",
       "  'https://www.linkedin.com/in/christiane-zhao-a073b4130?miniProfileUrn=urn%3Ali%3Afs_miniProfile%3AACoAACAYP6cBK1AyrQHGDOpFf2-8oV8x6_NBkHc',\n",
       "  'https://www.linkedin.com/in/portyapc?miniProfileUrn=urn%3Ali%3Afs_miniProfile%3AACoAAA0KalsBPahCzHHAChbGOEGLVE7y3K-S-ZI',\n",
       "  'https://www.linkedin.com/in/siatsiahyoong?miniProfileUrn=urn%3Ali%3Afs_miniProfile%3AACoAAAawp-oBJLL8EFAsJAgmzRdtzdWQykyRwAM',\n",
       "  'https://www.linkedin.com/in/tomasz-tomal-72128448?miniProfileUrn=urn%3Ali%3Afs_miniProfile%3AACoAAAoBvwkB9xp9pmqWMo8SLJQP3DdIplgwqwM',\n",
       "  'https://www.linkedin.com/in/peter-thompson-toronto?miniProfileUrn=urn%3Ali%3Afs_miniProfile%3AACoAAA5Ynk0B0fGlTalixpeGxzJY7UU7wPcuv4k',\n",
       "  'https://www.linkedin.com/in/aviroopduttmazumderphd?miniProfileUrn=urn%3Ali%3Afs_miniProfile%3AACoAAAPYXQ4BMNnd_pU-KbO8_5LtBGkXI-yv7Pg',\n",
       "  'https://www.linkedin.com/in/hamid-sha-phd-aa322a4a?miniProfileUrn=urn%3Ali%3Afs_miniProfile%3AACoAAApbI5sB3M2g8oSQg7U83HxOapNY88fopYc'],\n",
       " ['https://www.linkedin.com/in/emily-nota-9594a2a6?miniProfileUrn=urn%3Ali%3Afs_miniProfile%3AACoAABZ_TNUBwfRWf4YvOtXtaYOn6mbPoFVdEtg',\n",
       "  'https://www.linkedin.com/in/ulrich-bergler-5abb052a?miniProfileUrn=urn%3Ali%3Afs_miniProfile%3AACoAAAY3CRMBl-1RzHgMlycnZlN2OgrVkcVaOEM',\n",
       "  'https://www.linkedin.com/in/laurens-skelly-986b628?miniProfileUrn=urn%3Ali%3Afs_miniProfile%3AACoAAAGYPPYBxMQgbPbmn0Or-cFrRIa7Jf6Y_lA',\n",
       "  'https://www.linkedin.com/in/katemcardle?miniProfileUrn=urn%3Ali%3Afs_miniProfile%3AACoAAAOJ72cBoZ_OrFSluCtvpPucVMIzQ5Eynfs',\n",
       "  'https://www.linkedin.com/in/lasse-hansen-0a43b913b?miniProfileUrn=urn%3Ali%3Afs_miniProfile%3AACoAACINjDwB4ebUwHeRyE4dQI7fJCgrfuYoIhA',\n",
       "  'https://www.linkedin.com/in/christopherlaing?miniProfileUrn=urn%3Ali%3Afs_miniProfile%3AACoAAAoovlgBWL9ohAxdhUdhHe6-RzSom9UdUDg',\n",
       "  'https://www.linkedin.com/in/georgia-wright-simmons?miniProfileUrn=urn%3Ali%3Afs_miniProfile%3AACoAAAueREoBLe_hc8x1kWuYEuf84U2AqwNUwQ4',\n",
       "  'https://www.linkedin.com/in/behzad-dowran-50833337?miniProfileUrn=urn%3Ali%3Afs_miniProfile%3AACoAAAeznhgBAPjSz1DYdpc09WiJucA9VpASs08'],\n",
       " ['https://www.linkedin.com/in/cauld?miniProfileUrn=urn%3Ali%3Afs_miniProfile%3AACoAAAAbvfwBL_5JfP0FiTxFpzgCjUopQKHoc-g',\n",
       "  'https://www.linkedin.com/in/roberthoucn?miniProfileUrn=urn%3Ali%3Afs_miniProfile%3AACoAABsgn3IBcDbYuYOcZ3bEhbsTgZ3elcQ990o',\n",
       "  'https://www.linkedin.com/in/annametsaranta?miniProfileUrn=urn%3Ali%3Afs_miniProfile%3AACoAAAAnqTABEzSGxIFWkKjvBPVRiOwRrxYalBw',\n",
       "  'https://www.linkedin.com/in/vibhav-chitale?miniProfileUrn=urn%3Ali%3Afs_miniProfile%3AACoAABTSeLkB4F1gTlmem5y7vvWaycGFOmVb8ks',\n",
       "  'https://www.linkedin.com/in/helen-rijkes-01b99830?miniProfileUrn=urn%3Ali%3Afs_miniProfile%3AACoAAAaNexcBdsap9p3BzWM1TgyrtKWTQ5iud6Y',\n",
       "  'https://www.linkedin.com/in/asbjorn-honsvall-tietoevry-core-banking?miniProfileUrn=urn%3Ali%3Afs_miniProfile%3AACoAAAAVxggB6_2dbmit8pmIX0IW2P_BX0pADTU',\n",
       "  'https://www.linkedin.com/in/manhar-parbhu-pm?miniProfileUrn=urn%3Ali%3Afs_miniProfile%3AACoAAAou2x4BTCWBisxFTKCxN7TS1oRw90FXLB0',\n",
       "  'https://www.linkedin.com/in/nick-burns-289a4370?miniProfileUrn=urn%3Ali%3Afs_miniProfile%3AACoAAA8akckBCx99I-A7oK5Ty29O_6aAkGWmdRI'],\n",
       " ['https://www.linkedin.com/in/tomreidnz?miniProfileUrn=urn%3Ali%3Afs_miniProfile%3AACoAAAJ9ql4BRi_zL8OqcYMNamDaLppfnSOzuS4',\n",
       "  'https://www.linkedin.com/in/carole-barnay-data?miniProfileUrn=urn%3Ali%3Afs_miniProfile%3AACoAAAbJScsBdqmv4KLG8gnzouzkp5r1VVBOsqs',\n",
       "  'https://www.linkedin.com/in/murraywills?miniProfileUrn=urn%3Ali%3Afs_miniProfile%3AACoAAADxNLkBPYtAaBPqIMitPATZewhpKs83iEY',\n",
       "  'https://www.linkedin.com/in/domenicogargano27214b153?miniProfileUrn=urn%3Ali%3Afs_miniProfile%3AACoAACTcy7YBhAk1z1eeHYh9O90nVz7AVJSUR5Q',\n",
       "  'https://www.linkedin.com/in/mariacgrant?miniProfileUrn=urn%3Ali%3Afs_miniProfile%3AACoAABLadcoBAkHhBxjvIpkhC99hdklHj2Tv35o',\n",
       "  'https://www.linkedin.com/in/michael-j-friedel-3a7425aa?miniProfileUrn=urn%3Ali%3Afs_miniProfile%3AACoAABczFe8BZ9JimeGuOYIXzjRxnRSNGv3YCSY',\n",
       "  'https://www.linkedin.com/in/gcaza?miniProfileUrn=urn%3Ali%3Afs_miniProfile%3AACoAAAAIN5kBhMj1EmKfH9Ai3ZEHFllF1m_36t4',\n",
       "  'https://www.linkedin.com/in/timfletcher2?miniProfileUrn=urn%3Ali%3Afs_miniProfile%3AACoAAAET4R8BCjKDYV6oTC2QtAm02mDR6iEHK54',\n",
       "  'https://www.linkedin.com/in/nicholas-harman-58a325106?miniProfileUrn=urn%3Ali%3Afs_miniProfile%3AACoAABq-ivoB4ONHcjPJYqY_8KyKdPpXznFGwmM']]"
      ]
     },
     "execution_count": 18,
     "metadata": {},
     "output_type": "execute_result"
    }
   ],
   "source": [
    "\n",
    "links"
   ]
  },
  {
   "cell_type": "code",
   "execution_count": null,
   "metadata": {},
   "outputs": [],
   "source": [
    "for n in links:\n",
    "    driver.get(n)\n",
    "    time.sleep(2)\n",
    "    driver.find_element(By.XPATH, '//button[@class=\"inline-show-more-text__button inline-show-more-text__button--light link\"]').click()"
   ]
  }
 ],
 "metadata": {
  "kernelspec": {
   "display_name": "base",
   "language": "python",
   "name": "python3"
  },
  "language_info": {
   "codemirror_mode": {
    "name": "ipython",
    "version": 3
   },
   "file_extension": ".py",
   "mimetype": "text/x-python",
   "name": "python",
   "nbconvert_exporter": "python",
   "pygments_lexer": "ipython3",
   "version": "3.7.15"
  },
  "orig_nbformat": 4,
  "vscode": {
   "interpreter": {
    "hash": "33108113cd765238c00ed9b3faf350bf303c2b48119e3a3bc609e804ffcdefc7"
   }
  }
 },
 "nbformat": 4,
 "nbformat_minor": 2
}
