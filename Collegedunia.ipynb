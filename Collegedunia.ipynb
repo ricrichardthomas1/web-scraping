{
 "cells": [
  {
   "cell_type": "code",
   "execution_count": 2,
   "metadata": {},
   "outputs": [
    {
     "ename": "NoSuchWindowException",
     "evalue": "Message: no such window: target window already closed\nfrom unknown error: web view not found\n  (Session info: chrome=110.0.5481.105)\nStacktrace:\nBacktrace:\n\t(No symbol) [0x00A937D3]\n\t(No symbol) [0x00A28B81]\n\t(No symbol) [0x0092B36D]\n\t(No symbol) [0x0090E5DA]\n\t(No symbol) [0x0097F0CB]\n\t(No symbol) [0x00990A56]\n\t(No symbol) [0x0097B216]\n\t(No symbol) [0x00950D97]\n\t(No symbol) [0x0095253D]\n\tGetHandleVerifier [0x00D0ABF2+2510930]\n\tGetHandleVerifier [0x00D38EC1+2700065]\n\tGetHandleVerifier [0x00D3C86C+2714828]\n\tGetHandleVerifier [0x00B43480+645344]\n\t(No symbol) [0x00A30FD2]\n\t(No symbol) [0x00A36C68]\n\t(No symbol) [0x00A36D4B]\n\t(No symbol) [0x00A40D6B]\n\tBaseThreadInitThunk [0x759A7D69+25]\n\tRtlInitializeExceptionChain [0x7737BB9B+107]\n\tRtlClearBits [0x7737BB1F+191]\n",
     "output_type": "error",
     "traceback": [
      "\u001b[1;31m---------------------------------------------------------------------------\u001b[0m",
      "\u001b[1;31mNoSuchWindowException\u001b[0m                     Traceback (most recent call last)",
      "\u001b[1;32m~\\AppData\\Local\\Temp\\ipykernel_1940\\1525460827.py\u001b[0m in \u001b[0;36m<module>\u001b[1;34m\u001b[0m\n\u001b[0;32m     64\u001b[0m             \u001b[0mrankings\u001b[0m \u001b[1;33m=\u001b[0m \u001b[1;32mNone\u001b[0m\u001b[1;33m\u001b[0m\u001b[1;33m\u001b[0m\u001b[0m\n\u001b[0;32m     65\u001b[0m         \u001b[0mlistings\u001b[0m\u001b[1;33m.\u001b[0m\u001b[0mappend\u001b[0m\u001b[1;33m(\u001b[0m\u001b[1;33m{\u001b[0m\u001b[1;34m'name'\u001b[0m\u001b[1;33m:\u001b[0m\u001b[0mname\u001b[0m\u001b[1;33m,\u001b[0m\u001b[1;34m'location'\u001b[0m\u001b[1;33m:\u001b[0m\u001b[0mlocation\u001b[0m\u001b[1;33m,\u001b[0m\u001b[1;34m'course_name'\u001b[0m\u001b[1;33m:\u001b[0m\u001b[0mcourse_name\u001b[0m\u001b[1;33m,\u001b[0m\u001b[1;34m'fees_yrly'\u001b[0m\u001b[1;33m:\u001b[0m\u001b[0mfees_yrly\u001b[0m\u001b[1;33m,\u001b[0m\u001b[1;34m'duration'\u001b[0m\u001b[1;33m:\u001b[0m\u001b[0mduration\u001b[0m\u001b[1;33m,\u001b[0m\u001b[1;34m'rankings'\u001b[0m\u001b[1;33m:\u001b[0m\u001b[0mrankings\u001b[0m\u001b[1;33m}\u001b[0m\u001b[1;33m,\u001b[0m\u001b[0mignore_index\u001b[0m\u001b[1;33m=\u001b[0m\u001b[1;36m1\u001b[0m\u001b[1;33m)\u001b[0m\u001b[1;33m\u001b[0m\u001b[1;33m\u001b[0m\u001b[0m\n\u001b[1;32m---> 66\u001b[1;33m     \u001b[0mdriver\u001b[0m\u001b[1;33m.\u001b[0m\u001b[0mget\u001b[0m\u001b[1;33m(\u001b[0m\u001b[0mnext_page\u001b[0m\u001b[1;33m)\u001b[0m\u001b[1;33m\u001b[0m\u001b[1;33m\u001b[0m\u001b[0m\n\u001b[0m\u001b[0;32m     67\u001b[0m \u001b[1;33m\u001b[0m\u001b[0m\n\u001b[0;32m     68\u001b[0m \u001b[1;33m\u001b[0m\u001b[0m\n",
      "\u001b[1;32mc:\\Users\\Richard\\Anaconda3\\lib\\site-packages\\selenium\\webdriver\\remote\\webdriver.py\u001b[0m in \u001b[0;36mget\u001b[1;34m(self, url)\u001b[0m\n\u001b[0;32m    447\u001b[0m     \u001b[1;32mdef\u001b[0m \u001b[0mget\u001b[0m\u001b[1;33m(\u001b[0m\u001b[0mself\u001b[0m\u001b[1;33m,\u001b[0m \u001b[0murl\u001b[0m\u001b[1;33m:\u001b[0m \u001b[0mstr\u001b[0m\u001b[1;33m)\u001b[0m \u001b[1;33m->\u001b[0m \u001b[1;32mNone\u001b[0m\u001b[1;33m:\u001b[0m\u001b[1;33m\u001b[0m\u001b[1;33m\u001b[0m\u001b[0m\n\u001b[0;32m    448\u001b[0m         \u001b[1;34m\"\"\"Loads a web page in the current browser session.\"\"\"\u001b[0m\u001b[1;33m\u001b[0m\u001b[1;33m\u001b[0m\u001b[0m\n\u001b[1;32m--> 449\u001b[1;33m         \u001b[0mself\u001b[0m\u001b[1;33m.\u001b[0m\u001b[0mexecute\u001b[0m\u001b[1;33m(\u001b[0m\u001b[0mCommand\u001b[0m\u001b[1;33m.\u001b[0m\u001b[0mGET\u001b[0m\u001b[1;33m,\u001b[0m \u001b[1;33m{\u001b[0m\u001b[1;34m\"url\"\u001b[0m\u001b[1;33m:\u001b[0m \u001b[0murl\u001b[0m\u001b[1;33m}\u001b[0m\u001b[1;33m)\u001b[0m\u001b[1;33m\u001b[0m\u001b[1;33m\u001b[0m\u001b[0m\n\u001b[0m\u001b[0;32m    450\u001b[0m \u001b[1;33m\u001b[0m\u001b[0m\n\u001b[0;32m    451\u001b[0m     \u001b[1;33m@\u001b[0m\u001b[0mproperty\u001b[0m\u001b[1;33m\u001b[0m\u001b[1;33m\u001b[0m\u001b[0m\n",
      "\u001b[1;32mc:\\Users\\Richard\\Anaconda3\\lib\\site-packages\\selenium\\webdriver\\remote\\webdriver.py\u001b[0m in \u001b[0;36mexecute\u001b[1;34m(self, driver_command, params)\u001b[0m\n\u001b[0;32m    438\u001b[0m         \u001b[0mresponse\u001b[0m \u001b[1;33m=\u001b[0m \u001b[0mself\u001b[0m\u001b[1;33m.\u001b[0m\u001b[0mcommand_executor\u001b[0m\u001b[1;33m.\u001b[0m\u001b[0mexecute\u001b[0m\u001b[1;33m(\u001b[0m\u001b[0mdriver_command\u001b[0m\u001b[1;33m,\u001b[0m \u001b[0mparams\u001b[0m\u001b[1;33m)\u001b[0m\u001b[1;33m\u001b[0m\u001b[1;33m\u001b[0m\u001b[0m\n\u001b[0;32m    439\u001b[0m         \u001b[1;32mif\u001b[0m \u001b[0mresponse\u001b[0m\u001b[1;33m:\u001b[0m\u001b[1;33m\u001b[0m\u001b[1;33m\u001b[0m\u001b[0m\n\u001b[1;32m--> 440\u001b[1;33m             \u001b[0mself\u001b[0m\u001b[1;33m.\u001b[0m\u001b[0merror_handler\u001b[0m\u001b[1;33m.\u001b[0m\u001b[0mcheck_response\u001b[0m\u001b[1;33m(\u001b[0m\u001b[0mresponse\u001b[0m\u001b[1;33m)\u001b[0m\u001b[1;33m\u001b[0m\u001b[1;33m\u001b[0m\u001b[0m\n\u001b[0m\u001b[0;32m    441\u001b[0m             \u001b[0mresponse\u001b[0m\u001b[1;33m[\u001b[0m\u001b[1;34m\"value\"\u001b[0m\u001b[1;33m]\u001b[0m \u001b[1;33m=\u001b[0m \u001b[0mself\u001b[0m\u001b[1;33m.\u001b[0m\u001b[0m_unwrap_value\u001b[0m\u001b[1;33m(\u001b[0m\u001b[0mresponse\u001b[0m\u001b[1;33m.\u001b[0m\u001b[0mget\u001b[0m\u001b[1;33m(\u001b[0m\u001b[1;34m\"value\"\u001b[0m\u001b[1;33m,\u001b[0m \u001b[1;32mNone\u001b[0m\u001b[1;33m)\u001b[0m\u001b[1;33m)\u001b[0m\u001b[1;33m\u001b[0m\u001b[1;33m\u001b[0m\u001b[0m\n\u001b[0;32m    442\u001b[0m             \u001b[1;32mreturn\u001b[0m \u001b[0mresponse\u001b[0m\u001b[1;33m\u001b[0m\u001b[1;33m\u001b[0m\u001b[0m\n",
      "\u001b[1;32mc:\\Users\\Richard\\Anaconda3\\lib\\site-packages\\selenium\\webdriver\\remote\\errorhandler.py\u001b[0m in \u001b[0;36mcheck_response\u001b[1;34m(self, response)\u001b[0m\n\u001b[0;32m    243\u001b[0m                 \u001b[0malert_text\u001b[0m \u001b[1;33m=\u001b[0m \u001b[0mvalue\u001b[0m\u001b[1;33m[\u001b[0m\u001b[1;34m\"alert\"\u001b[0m\u001b[1;33m]\u001b[0m\u001b[1;33m.\u001b[0m\u001b[0mget\u001b[0m\u001b[1;33m(\u001b[0m\u001b[1;34m\"text\"\u001b[0m\u001b[1;33m)\u001b[0m\u001b[1;33m\u001b[0m\u001b[1;33m\u001b[0m\u001b[0m\n\u001b[0;32m    244\u001b[0m             \u001b[1;32mraise\u001b[0m \u001b[0mexception_class\u001b[0m\u001b[1;33m(\u001b[0m\u001b[0mmessage\u001b[0m\u001b[1;33m,\u001b[0m \u001b[0mscreen\u001b[0m\u001b[1;33m,\u001b[0m \u001b[0mstacktrace\u001b[0m\u001b[1;33m,\u001b[0m \u001b[0malert_text\u001b[0m\u001b[1;33m)\u001b[0m  \u001b[1;31m# type: ignore[call-arg]  # mypy is not smart enough here\u001b[0m\u001b[1;33m\u001b[0m\u001b[1;33m\u001b[0m\u001b[0m\n\u001b[1;32m--> 245\u001b[1;33m         \u001b[1;32mraise\u001b[0m \u001b[0mexception_class\u001b[0m\u001b[1;33m(\u001b[0m\u001b[0mmessage\u001b[0m\u001b[1;33m,\u001b[0m \u001b[0mscreen\u001b[0m\u001b[1;33m,\u001b[0m \u001b[0mstacktrace\u001b[0m\u001b[1;33m)\u001b[0m\u001b[1;33m\u001b[0m\u001b[1;33m\u001b[0m\u001b[0m\n\u001b[0m",
      "\u001b[1;31mNoSuchWindowException\u001b[0m: Message: no such window: target window already closed\nfrom unknown error: web view not found\n  (Session info: chrome=110.0.5481.105)\nStacktrace:\nBacktrace:\n\t(No symbol) [0x00A937D3]\n\t(No symbol) [0x00A28B81]\n\t(No symbol) [0x0092B36D]\n\t(No symbol) [0x0090E5DA]\n\t(No symbol) [0x0097F0CB]\n\t(No symbol) [0x00990A56]\n\t(No symbol) [0x0097B216]\n\t(No symbol) [0x00950D97]\n\t(No symbol) [0x0095253D]\n\tGetHandleVerifier [0x00D0ABF2+2510930]\n\tGetHandleVerifier [0x00D38EC1+2700065]\n\tGetHandleVerifier [0x00D3C86C+2714828]\n\tGetHandleVerifier [0x00B43480+645344]\n\t(No symbol) [0x00A30FD2]\n\t(No symbol) [0x00A36C68]\n\t(No symbol) [0x00A36D4B]\n\t(No symbol) [0x00A40D6B]\n\tBaseThreadInitThunk [0x759A7D69+25]\n\tRtlInitializeExceptionChain [0x7737BB9B+107]\n\tRtlClearBits [0x7737BB1F+191]\n"
     ]
    }
   ],
   "source": [
    "#Data extraction for College Dunia\n",
    "import pandas as pd\n",
    "import numpy as np\n",
    "import scipy as sy\n",
    "import os\n",
    "import sys\n",
    "import matplotlib.pyplot as plt\n",
    "import seaborn as sns\n",
    "from bs4 import BeautifulSoup\n",
    "import plotly\n",
    "import cufflinks as ck  \n",
    "from serpapi import GoogleSearch\n",
    "import requests\n",
    "import lxml\n",
    "import time\n",
    "from selenium import webdriver\n",
    "from selenium.webdriver.common.by import By\n",
    "from selenium.webdriver.common.keys import Keys\n",
    "from selenium.webdriver.chrome.service import Service\n",
    "import re\n",
    "from selenium.webdriver.support.ui import Select\n",
    "from selenium.webdriver.support.wait import WebDriverWait\n",
    "from selenium.webdriver.support import expected_conditions as ec\n",
    "\n",
    "#initialize driver\n",
    "driver = webdriver.Chrome()\n",
    "\n",
    "#setting up search url and query keywords\n",
    "query = 'collegedunia top masters data science and analytics'\n",
    "listings = pd.DataFrame(columns=['name','location','course_name','fees_yrly','duration','rankings'])\n",
    "url = f\"https://www.google.com/search?q={query}\"\n",
    "link = 'https://collegedunia.com/study-abroad/data-science-and-analytics/master-colleges' #driver.find_element(By.CLASS_NAME, \"//*[@id=\"rso\"]/div[1]/div/div/div[1]/div/div/div[1]/div/a\")\n",
    "driver.get(link)\n",
    "while True:\n",
    "    time.sleep(3)\n",
    "    driver.execute_script('window.scrollTo(0, document.body.scrollHeight);')\n",
    "    next_pages = driver.find_elements(By.CLASS_NAME, \"page-link\")\n",
    "    next_page = next_pages[-1].get_attribute('href')\n",
    "    details = driver.find_elements(By.CLASS_NAME,\"jsx-2188674517\")\n",
    "    for entry in details:\n",
    "        try:\n",
    "            name  = entry.find_element(By.CSS_SELECTOR,\"h3.jsx-2188674517 font-weight-bold text-md m-0\").text\n",
    "        except:\n",
    "            name = None\n",
    "        try:\n",
    "            location = entry.find_element(By.CSS_SELECTOR,\"div.jsx-2188674517 location\").text\n",
    "        except:\n",
    "            location = None\n",
    "        try:\n",
    "            course_name = entry.find_element(By.CSS_SELECTOR,\"span.jsx-2188674517 text-md d-block   text-none \").text\n",
    "        except:\n",
    "            course_name = None\n",
    "        try:\n",
    "            fees_yrly = entry.find_element(By.CSS_SELECTOR,\"span.jsx-2188674517 lr-key w-40  d-block font-weight-semi  text-primary course-fee text-right text-md\").text\n",
    "        except:\n",
    "            fees_yrly = None\n",
    "        try:\n",
    "            duration = entry.find_element(By.CSS_SELECTOR,\"span.jsx-2188674517 text-primary dur-truncate w-40 text-right\").text\n",
    "        except:\n",
    "            duration = None\n",
    "        try:\n",
    "            rankings = entry.find_element(By.CSS_SELECTOR,\"div.jsx-2188674517'\").text\n",
    "        except:\n",
    "            rankings = None\n",
    "        listings.append({'name':name,'location':location,'course_name':course_name,'fees_yrly':fees_yrly,'duration':duration,'rankings':rankings},ignore_index=1)\n",
    "    driver.get(next_page)       \n",
    "\n",
    "\n",
    "\n"
   ]
  }
 ],
 "metadata": {
  "kernelspec": {
   "display_name": "base",
   "language": "python",
   "name": "python3"
  },
  "language_info": {
   "codemirror_mode": {
    "name": "ipython",
    "version": 3
   },
   "file_extension": ".py",
   "mimetype": "text/x-python",
   "name": "python",
   "nbconvert_exporter": "python",
   "pygments_lexer": "ipython3",
   "version": "3.7.15"
  },
  "orig_nbformat": 4,
  "vscode": {
   "interpreter": {
    "hash": "33108113cd765238c00ed9b3faf350bf303c2b48119e3a3bc609e804ffcdefc7"
   }
  }
 },
 "nbformat": 4,
 "nbformat_minor": 2
}
