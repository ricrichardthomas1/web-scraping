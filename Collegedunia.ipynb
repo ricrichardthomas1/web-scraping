{
 "cells": [
  {
   "cell_type": "code",
   "execution_count": 2,
   "metadata": {},
   "outputs": [
    {
     "name": "stdout",
     "output_type": "stream",
     "text": [
      "n: 0\n",
      "length of next_pages:5\n",
      "https://collegedunia.com/study-abroad/data-science-and-analytics/master-colleges/page-2\n",
      "n: 1\n",
      "length of next_pages:7\n",
      "https://collegedunia.com/study-abroad/data-science-and-analytics/master-colleges/page-3\n",
      "n: 2\n",
      "length of next_pages:8\n",
      "https://collegedunia.com/study-abroad/data-science-and-analytics/master-colleges/page-4\n",
      "n: 3\n",
      "length of next_pages:9\n",
      "https://collegedunia.com/study-abroad/data-science-and-analytics/master-colleges/page-5\n",
      "n: 4\n",
      "length of next_pages:9\n",
      "https://collegedunia.com/study-abroad/data-science-and-analytics/master-colleges/page-6\n",
      "n: 5\n",
      "length of next_pages:8\n",
      "https://collegedunia.com/study-abroad/data-science-and-analytics/master-colleges/page-7\n",
      "n: 6\n",
      "length of next_pages:7\n",
      "https://collegedunia.com/study-abroad/data-science-and-analytics/master-colleges/page-8\n",
      "n: 7\n",
      "length of next_pages:5\n",
      "https://collegedunia.com/study-abroad/data-science-and-analytics/master-colleges/page-8\n"
     ]
    }
   ],
   "source": [
    "#Data extraction for College Dunia\n",
    "import pandas as pd\n",
    "import numpy as np\n",
    "import scipy as sy\n",
    "import os\n",
    "import sys\n",
    "import matplotlib.pyplot as plt\n",
    "import seaborn as sns\n",
    "from bs4 import BeautifulSoup\n",
    "import plotly\n",
    "import cufflinks as ck  \n",
    "from serpapi import GoogleSearch\n",
    "import requests\n",
    "import lxml\n",
    "import time\n",
    "from selenium import webdriver\n",
    "from selenium.webdriver.common.by import By\n",
    "from selenium.webdriver.common.keys import Keys\n",
    "from selenium.webdriver.chrome.service import Service\n",
    "import re\n",
    "from selenium.webdriver.support.ui import Select\n",
    "from selenium.webdriver.support.wait import WebDriverWait\n",
    "from selenium.webdriver.support import expected_conditions as ec\n",
    "\n",
    "#initialize driver\n",
    "driver = webdriver.Chrome()\n",
    "\n",
    "#setting up search url and query keywords\n",
    "query = 'collegedunia top masters data science and analytics'\n",
    "listings = pd.DataFrame(columns=['name','location','course_name','fees_yrly','duration','rankings'])\n",
    "url = f\"https://www.google.com/search?q={query}\"\n",
    "link = 'https://collegedunia.com/study-abroad/data-science-and-analytics/master-colleges' #driver.find_element(By.CLASS_NAME, \"//*[@id=\"rso\"]/div[1]/div/div/div[1]/div/div/div[1]/div/a\")\n",
    "driver.get(link)\n",
    "driver.maximize_window()\n",
    "next_page = '99'\n",
    "n = 0\n",
    "while n < int(next_page[-1]):\n",
    "    driver.implicitly_wait(6)\n",
    "    driver.execute_script('window.scrollTo(0, document.body.scrollHeight);')\n",
    "    next_pages = driver.find_elements(By.CLASS_NAME, \"page-link\")\n",
    "    next_page = next_pages[-1].get_attribute('href')\n",
    "    print(f'n: {n}')\n",
    "    print(f'length of next_pages:{len(next_pages)}')\n",
    "    print(next_page)\n",
    "    details = driver.find_elements(By.XPATH,\"\"\"//*[@id=\"__next\"]/div[2]/section/div/div[3]/div[2]/div[2]/div\"\"\")\n",
    "    for entry in details:   \n",
    "        try:\n",
    "            name = entry.find_element(By.TAG_NAME,\"h3\").text\n",
    "        except:\n",
    "            name = None\n",
    "        try:\n",
    "            location = entry.find_element(By.CSS_SELECTOR,\"div.jsx-2188674517.location\").text\n",
    "        except:\n",
    "            location = None\n",
    "        try:\n",
    "            course_name = entry.find_element(By.CSS_SELECTOR,\"span.jsx-2188674517.text-md.d-block.text-none \").get_attribute(\"title\")\n",
    "        except:\n",
    "            course_name = None\n",
    "        try:\n",
    "            fees_yrly = entry.find_element(By.CSS_SELECTOR,\"span.jsx-2188674517.lr-key.w-40.d-block.font-weight-semi.text-primary.course-fee.text-right.text-md\").text\n",
    "        except:\n",
    "            fees_yrly = None\n",
    "        try:\n",
    "            duration = entry.find_element(By.CSS_SELECTOR,\"span.jsx-2188674517.text-primary.dur-truncate.w-40.text-right\").text\n",
    "        except:\n",
    "            duration = None\n",
    "        try:\n",
    "            rankings = [i.text for i in entry.find_elements(By.CSS_SELECTOR,\"span.jsx-2188674517.rank-span\")]\n",
    "        except:\n",
    "            rankings = None\n",
    "        listings = listings.append({'name':name,'location':location,'course_name':course_name,'fees_yrly':fees_yrly,'duration':duration,'rankings':rankings},ignore_index=1)\n",
    "    n+=1\n",
    "    driver.get(next_page)\n",
    "\n",
    "\n"
   ]
  },
  {
   "cell_type": "code",
   "execution_count": 9,
   "metadata": {},
   "outputs": [],
   "source": [
    "listings.to_csv(\"D:/analyticsmasters.csv\",index=False)"
   ]
  }
 ],
 "metadata": {
  "kernelspec": {
   "display_name": "base",
   "language": "python",
   "name": "python3"
  },
  "language_info": {
   "codemirror_mode": {
    "name": "ipython",
    "version": 3
   },
   "file_extension": ".py",
   "mimetype": "text/x-python",
   "name": "python",
   "nbconvert_exporter": "python",
   "pygments_lexer": "ipython3",
   "version": "3.7.15"
  },
  "orig_nbformat": 4,
  "vscode": {
   "interpreter": {
    "hash": "33108113cd765238c00ed9b3faf350bf303c2b48119e3a3bc609e804ffcdefc7"
   }
  }
 },
 "nbformat": 4,
 "nbformat_minor": 2
}
